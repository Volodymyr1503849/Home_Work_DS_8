{
 "cells": [
  {
   "cell_type": "code",
   "execution_count": 116,
   "metadata": {},
   "outputs": [],
   "source": [
    "import numpy as np\n",
    "import pandas as pd\n",
    "import os\n",
    "from sklearn.model_selection import train_test_split\n",
    "from sklearn.preprocessing import StandardScaler\n",
    "from sklearn.svm import SVC\n",
    "from sklearn.ensemble import RandomForestClassifier\n",
    "from sklearn.metrics import accuracy_score, classification_report"
   ]
  },
  {
   "cell_type": "code",
   "execution_count": 117,
   "metadata": {},
   "outputs": [
    {
     "name": "stderr",
     "output_type": "stream",
     "text": [
      "C:\\Users\\kybav\\AppData\\Local\\Temp\\ipykernel_28424\\214068956.py:16: SettingWithCopyWarning: \n",
      "A value is trying to be set on a copy of a slice from a DataFrame.\n",
      "Try using .loc[row_indexer,col_indexer] = value instead\n",
      "\n",
      "See the caveats in the documentation: https://pandas.pydata.org/pandas-docs/stable/user_guide/indexing.html#returning-a-view-versus-a-copy\n",
      "  df_cleaned[\"x\"] = pd.to_numeric(df_cleaned[\"x\"], errors='coerce').astype('float64')\n",
      "C:\\Users\\kybav\\AppData\\Local\\Temp\\ipykernel_28424\\214068956.py:17: SettingWithCopyWarning: \n",
      "A value is trying to be set on a copy of a slice from a DataFrame.\n",
      "Try using .loc[row_indexer,col_indexer] = value instead\n",
      "\n",
      "See the caveats in the documentation: https://pandas.pydata.org/pandas-docs/stable/user_guide/indexing.html#returning-a-view-versus-a-copy\n",
      "  df_cleaned[\"y\"] = pd.to_numeric(df_cleaned[\"y\"], errors='coerce').astype('float64')\n",
      "C:\\Users\\kybav\\AppData\\Local\\Temp\\ipykernel_28424\\214068956.py:18: SettingWithCopyWarning: \n",
      "A value is trying to be set on a copy of a slice from a DataFrame.\n",
      "Try using .loc[row_indexer,col_indexer] = value instead\n",
      "\n",
      "See the caveats in the documentation: https://pandas.pydata.org/pandas-docs/stable/user_guide/indexing.html#returning-a-view-versus-a-copy\n",
      "  df_cleaned[\"z\"] = pd.to_numeric(df_cleaned[\"z\"], errors='coerce').astype('float64')\n"
     ]
    }
   ],
   "source": [
    "base_path = 'data'\n",
    "activities = ['running', 'idle', 'walking', 'stairs']\n",
    "data_list = []\n",
    "for activity in activities:\n",
    "    folder_path = os.path.join(base_path, activity)\n",
    "    for filename in os.listdir(folder_path):\n",
    "        if filename.endswith('.csv'):\n",
    "            file_path = os.path.join(folder_path, filename)\n",
    "            df = pd.read_csv(file_path, header=None, names=['x', 'y', 'z'])\n",
    "            df['activity'] = activity\n",
    "            data_list.append(df)\n",
    "all_data = pd.concat(data_list, ignore_index=True)\n",
    "all_data.to_csv(\"prepare_data\", index = False)\n",
    "df = pd.read_csv('prepare_data')\n",
    "df_cleaned = all_data[~((df['x'] == 'accelerometer_X') & (df['y'] == 'accelerometer_Y') & (df['z'] == 'accelerometer_Z'))]\n",
    "df_cleaned[\"x\"] = pd.to_numeric(df_cleaned[\"x\"], errors='coerce').astype('float64')\n",
    "df_cleaned[\"y\"] = pd.to_numeric(df_cleaned[\"y\"], errors='coerce').astype('float64')\n",
    "df_cleaned[\"z\"] = pd.to_numeric(df_cleaned[\"z\"], errors='coerce').astype('float64')"
   ]
  },
  {
   "cell_type": "code",
   "execution_count": 118,
   "metadata": {},
   "outputs": [],
   "source": [
    "def extract_time_features(window):\n",
    "    features = {}\n",
    "    features['mean_x'] = window['x'].mean()\n",
    "    features['mean_y'] = window['y'].mean()\n",
    "    features['mean_z'] = window['z'].mean()\n",
    "    features['std_x'] = window['x'].std()\n",
    "    features['std_y'] = window['y'].std()\n",
    "    features['std_z'] = window['z'].std()\n",
    "    features['max_x'] = window['x'].max()\n",
    "    features['max_y'] = window['y'].max()\n",
    "    features['max_z'] = window['z'].max()\n",
    "    features['min_x'] = window['x'].min()\n",
    "    features['min_y'] = window['y'].min()\n",
    "    features['min_z'] = window['z'].min()\n",
    "    return pd.Series(features)\n",
    "\n",
    "window_size = 128  \n",
    "features_list = []\n",
    "labels = []\n",
    "\n",
    "for i in range(0, len(df_cleaned) - window_size, window_size):\n",
    "    window = df_cleaned.iloc[i:i + window_size]\n",
    "    features = extract_time_features(window)\n",
    "    features_list.append(features)\n",
    "    labels.append(window['activity'].mode()[0])  # Найпоширеніша активність у вікні\n",
    "features_df = pd.DataFrame(features_list)\n",
    "labels = pd.Series(labels)"
   ]
  },
  {
   "cell_type": "code",
   "execution_count": 119,
   "metadata": {},
   "outputs": [],
   "source": [
    "X_train, X_test, y_train, y_test = train_test_split(features_df, labels, test_size=0.2, random_state=42)"
   ]
  },
  {
   "cell_type": "code",
   "execution_count": 120,
   "metadata": {},
   "outputs": [],
   "source": [
    "scaler = StandardScaler()\n",
    "X_train_scaled = scaler.fit_transform(X_train)\n",
    "X_test_scaled = scaler.transform(X_test)"
   ]
  },
  {
   "cell_type": "code",
   "execution_count": 121,
   "metadata": {},
   "outputs": [],
   "source": [
    "svm_model = SVC(kernel='linear')\n",
    "svm_model.fit(X_train_scaled, y_train)\n",
    "svm_pred = svm_model.predict(X_test_scaled)"
   ]
  },
  {
   "cell_type": "code",
   "execution_count": 122,
   "metadata": {},
   "outputs": [],
   "source": [
    "rf_model = RandomForestClassifier(n_estimators=100, random_state=42)\n",
    "rf_model.fit(X_train, y_train)\n",
    "rf_pred = rf_model.predict(X_test)"
   ]
  },
  {
   "cell_type": "code",
   "execution_count": 123,
   "metadata": {},
   "outputs": [
    {
     "name": "stdout",
     "output_type": "stream",
     "text": [
      "SVM Accuracy: 0.9834983498349835\n",
      "Random Forest Accuracy: 0.9867986798679867\n",
      "\n",
      "Classification Report (SVM):\n",
      "               precision    recall  f1-score   support\n",
      "\n",
      "        idle       1.00      1.00      1.00        51\n",
      "     running       1.00      1.00      1.00       150\n",
      "      stairs       0.75      0.67      0.71         9\n",
      "     walking       0.97      0.98      0.97        93\n",
      "\n",
      "    accuracy                           0.98       303\n",
      "   macro avg       0.93      0.91      0.92       303\n",
      "weighted avg       0.98      0.98      0.98       303\n",
      "\n",
      "\n",
      "Classification Report (Random Forest):\n",
      "               precision    recall  f1-score   support\n",
      "\n",
      "        idle       1.00      1.00      1.00        51\n",
      "     running       1.00      1.00      1.00       150\n",
      "      stairs       0.86      0.67      0.75         9\n",
      "     walking       0.97      0.99      0.98        93\n",
      "\n",
      "    accuracy                           0.99       303\n",
      "   macro avg       0.96      0.91      0.93       303\n",
      "weighted avg       0.99      0.99      0.99       303\n",
      "\n"
     ]
    }
   ],
   "source": [
    "print(\"SVM Accuracy:\", accuracy_score(y_test, svm_pred))\n",
    "print(\"Random Forest Accuracy:\", accuracy_score(y_test, rf_pred))\n",
    "print(\"\\nClassification Report (SVM):\\n\", classification_report(y_test, svm_pred))\n",
    "print(\"\\nClassification Report (Random Forest):\\n\", classification_report(y_test, rf_pred))"
   ]
  }
 ],
 "metadata": {
  "kernelspec": {
   "display_name": "Python 3",
   "language": "python",
   "name": "python3"
  },
  "language_info": {
   "codemirror_mode": {
    "name": "ipython",
    "version": 3
   },
   "file_extension": ".py",
   "mimetype": "text/x-python",
   "name": "python",
   "nbconvert_exporter": "python",
   "pygments_lexer": "ipython3",
   "version": "3.11.9"
  }
 },
 "nbformat": 4,
 "nbformat_minor": 2
}
